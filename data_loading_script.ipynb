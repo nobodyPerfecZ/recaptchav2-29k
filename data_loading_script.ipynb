{
 "cells": [
  {
   "cell_type": "markdown",
   "id": "bb80cd86",
   "metadata": {},
   "source": [
    "## Load Dataset locally with Huggingface Datasets 🤗"
   ]
  },
  {
   "cell_type": "code",
   "execution_count": null,
   "id": "43364d65",
   "metadata": {},
   "outputs": [],
   "source": [
    "from datasets import load_dataset, Image, DatasetDict\n",
    "\n",
    "# Load the metadata CSV file\n",
    "dataset = load_dataset(\"csv\", data_files=\"metadata.csv\")\n",
    "\n",
    "# Define the mapping of class names to indices (necessary for stratified splitting)\n",
    "columns = {\n",
    "    \"bicycle\": 0,\n",
    "    \"bus\": 1,\n",
    "    \"car\": 2,\n",
    "    \"crosswalk\": 3,\n",
    "    \"hydrant\": 4,\n",
    "}\n",
    "\n",
    "# Add the primary class label of each image (necessary for stratified splitting)\n",
    "dataset = dataset.map(\n",
    "    function=lambda x: {\"class_idx\": columns[x[\"image\"].split(\"/\")[2]]},\n",
    ")\n",
    "dataset = dataset.class_encode_column(\"class_idx\")\n",
    "\n",
    "# Add all class labels of each image\n",
    "dataset = dataset.map(\n",
    "    function=lambda x: {\"labels\": [x[c] for c in columns]},\n",
    "    remove_columns=columns,\n",
    ")\n",
    "\n",
    "# Load the images from the specified directory\n",
    "dataset = dataset.cast_column(\"image\", Image())\n",
    "\n",
    "# Split the complete dataset into train and val_and_test datasets\n",
    "dataset = dataset[\"train\"].train_test_split(\n",
    "    test_size=0.2,\n",
    "    seed=0,\n",
    "    stratify_by_column=\"class_idx\",\n",
    ")\n",
    "train_dataset, val_test_dataset = dataset[\"train\"], dataset[\"test\"]\n",
    "\n",
    "# Split the val_and_test dataset into validation and test datasets\n",
    "dataset = val_test_dataset.train_test_split(\n",
    "    test_size=0.5,\n",
    "    seed=0,\n",
    "    stratify_by_column=\"class_idx\",\n",
    ")\n",
    "val_dataset, test_dataset = dataset[\"train\"], dataset[\"test\"]\n",
    "\n",
    "# Combine the datasets into a single dictionary\n",
    "dataset = DatasetDict(\n",
    "    {\n",
    "        \"train\": train_dataset,\n",
    "        \"validation\": val_dataset,\n",
    "        \"test\": test_dataset,\n",
    "    }\n",
    ")\n",
    "\n",
    "# Remove the primary class label from the dataset\n",
    "dataset = dataset.remove_columns([\"class_idx\"])"
   ]
  },
  {
   "cell_type": "code",
   "execution_count": null,
   "id": "bff10e69",
   "metadata": {},
   "outputs": [],
   "source": [
    "# Display the first image and its labels\n",
    "dataset[\"train\"][0][\"image\"], dataset[\"train\"][0][\"labels\"]"
   ]
  }
 ],
 "metadata": {
  "kernelspec": {
   "display_name": "recaptchav2-dataset",
   "language": "python",
   "name": "python3"
  },
  "language_info": {
   "codemirror_mode": {
    "name": "ipython",
    "version": 3
   },
   "file_extension": ".py",
   "mimetype": "text/x-python",
   "name": "python",
   "nbconvert_exporter": "python",
   "pygments_lexer": "ipython3",
   "version": "3.10.16"
  }
 },
 "nbformat": 4,
 "nbformat_minor": 5
}
